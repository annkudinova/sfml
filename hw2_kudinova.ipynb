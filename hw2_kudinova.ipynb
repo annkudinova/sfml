{
 "cells": [
  {
   "cell_type": "markdown",
   "metadata": {},
   "source": [
    "# SkillFactory\n",
    "## Введение в ML, введение в sklearn"
   ]
  },
  {
   "cell_type": "markdown",
   "metadata": {},
   "source": [
    "В этом задании мы с вами рассмотрим данные с конкурса [Задача предсказания отклика клиентов ОТП Банка](http://www.machinelearning.ru/wiki/index.php?title=%D0%97%D0%B0%D0%B4%D0%B0%D1%87%D0%B0_%D0%BF%D1%80%D0%B5%D0%B4%D1%81%D0%BA%D0%B0%D0%B7%D0%B0%D0%BD%D0%B8%D1%8F_%D0%BE%D1%82%D0%BA%D0%BB%D0%B8%D0%BA%D0%B0_%D0%BA%D0%BB%D0%B8%D0%B5%D0%BD%D1%82%D0%BE%D0%B2_%D0%9E%D0%A2%D0%9F_%D0%91%D0%B0%D0%BD%D0%BA%D0%B0_%28%D0%BA%D0%BE%D0%BD%D0%BA%D1%83%D1%80%D1%81%29)"
   ]
  },
  {
   "cell_type": "code",
   "execution_count": 101,
   "metadata": {},
   "outputs": [],
   "source": [
    "import pandas as pd\n",
    "import numpy as np\n",
    "import matplotlib.pyplot as plt\n",
    "\n",
    "%matplotlib inline\n",
    "\n",
    "plt.style.use('ggplot')\n",
    "plt.rcParams['figure.figsize'] = (12,5)"
   ]
  },
  {
   "cell_type": "markdown",
   "metadata": {},
   "source": [
    "### Грузим данные"
   ]
  },
  {
   "cell_type": "markdown",
   "metadata": {},
   "source": [
    "Считаем описание данных"
   ]
  },
  {
   "cell_type": "code",
   "execution_count": 102,
   "metadata": {},
   "outputs": [],
   "source": [
    "df_descr = pd.read_csv('data/otp_description.csv', sep='\\t', encoding='utf8')"
   ]
  },
  {
   "cell_type": "code",
   "execution_count": 103,
   "metadata": {},
   "outputs": [
    {
     "data": {
      "text/html": [
       "<div>\n",
       "<style scoped>\n",
       "    .dataframe tbody tr th:only-of-type {\n",
       "        vertical-align: middle;\n",
       "    }\n",
       "\n",
       "    .dataframe tbody tr th {\n",
       "        vertical-align: top;\n",
       "    }\n",
       "\n",
       "    .dataframe thead th {\n",
       "        text-align: right;\n",
       "    }\n",
       "</style>\n",
       "<table border=\"1\" class=\"dataframe\">\n",
       "  <thead>\n",
       "    <tr style=\"text-align: right;\">\n",
       "      <th></th>\n",
       "      <th>ПОЛЕ</th>\n",
       "      <th>ОПИСАНИЕ</th>\n",
       "    </tr>\n",
       "  </thead>\n",
       "  <tbody>\n",
       "    <tr>\n",
       "      <th>0</th>\n",
       "      <td>AGREEMENT_RK</td>\n",
       "      <td>уникальный идентификатор объекта в выборке</td>\n",
       "    </tr>\n",
       "    <tr>\n",
       "      <th>1</th>\n",
       "      <td>AGE</td>\n",
       "      <td>возраст клиента</td>\n",
       "    </tr>\n",
       "    <tr>\n",
       "      <th>2</th>\n",
       "      <td>SOCSTATUS_WORK_FL</td>\n",
       "      <td>социальный статус клиента относительно работы ...</td>\n",
       "    </tr>\n",
       "    <tr>\n",
       "      <th>3</th>\n",
       "      <td>SOCSTATUS_PENS_FL</td>\n",
       "      <td>социальный статус клиента относительно пенсии ...</td>\n",
       "    </tr>\n",
       "    <tr>\n",
       "      <th>4</th>\n",
       "      <td>GENDER</td>\n",
       "      <td>пол клиента (1- женщины, 0-мужчины)</td>\n",
       "    </tr>\n",
       "    <tr>\n",
       "      <th>5</th>\n",
       "      <td>CHILD_TOTAL</td>\n",
       "      <td>количество детей клиента</td>\n",
       "    </tr>\n",
       "    <tr>\n",
       "      <th>6</th>\n",
       "      <td>DEPENDANTS</td>\n",
       "      <td>количество иждивенцев клиента</td>\n",
       "    </tr>\n",
       "    <tr>\n",
       "      <th>7</th>\n",
       "      <td>EDUCATION</td>\n",
       "      <td>образование</td>\n",
       "    </tr>\n",
       "    <tr>\n",
       "      <th>8</th>\n",
       "      <td>MARITAL_STATUS</td>\n",
       "      <td>семейное положение</td>\n",
       "    </tr>\n",
       "    <tr>\n",
       "      <th>9</th>\n",
       "      <td>GEN_INDUSTRY</td>\n",
       "      <td>отрасль работы клиента</td>\n",
       "    </tr>\n",
       "    <tr>\n",
       "      <th>10</th>\n",
       "      <td>GEN_TITLE</td>\n",
       "      <td>должность</td>\n",
       "    </tr>\n",
       "    <tr>\n",
       "      <th>11</th>\n",
       "      <td>ORG_TP_STATE</td>\n",
       "      <td>форма собственности компании</td>\n",
       "    </tr>\n",
       "    <tr>\n",
       "      <th>12</th>\n",
       "      <td>ORG_TP_FCAPITAL</td>\n",
       "      <td>отношение к иностранному капиталу</td>\n",
       "    </tr>\n",
       "    <tr>\n",
       "      <th>13</th>\n",
       "      <td>JOB_DIR</td>\n",
       "      <td>направление деятельности в нутри компании</td>\n",
       "    </tr>\n",
       "    <tr>\n",
       "      <th>14</th>\n",
       "      <td>FAMILY_INCOME</td>\n",
       "      <td>семейный доход (несколько категорий)</td>\n",
       "    </tr>\n",
       "    <tr>\n",
       "      <th>15</th>\n",
       "      <td>PERSONAL_INCOME</td>\n",
       "      <td>личный доход клиента (в рублях)</td>\n",
       "    </tr>\n",
       "    <tr>\n",
       "      <th>16</th>\n",
       "      <td>REG_ADDRESS_PROVINCE</td>\n",
       "      <td>область регистрации клиента</td>\n",
       "    </tr>\n",
       "    <tr>\n",
       "      <th>17</th>\n",
       "      <td>FACT_ADDRESS_PROVINCE</td>\n",
       "      <td>область фактического пребывания клиента</td>\n",
       "    </tr>\n",
       "    <tr>\n",
       "      <th>18</th>\n",
       "      <td>POSTAL_ADDRESS_PROVINCE</td>\n",
       "      <td>почтовый адрес область</td>\n",
       "    </tr>\n",
       "    <tr>\n",
       "      <th>19</th>\n",
       "      <td>TP_PROVINCE</td>\n",
       "      <td>область торговой точки, где клиент брал послед...</td>\n",
       "    </tr>\n",
       "    <tr>\n",
       "      <th>20</th>\n",
       "      <td>REGION_NM</td>\n",
       "      <td>регион РФ</td>\n",
       "    </tr>\n",
       "    <tr>\n",
       "      <th>21</th>\n",
       "      <td>REG_FACT_FL</td>\n",
       "      <td>адрес регистрации и адрес фактического пребыва...</td>\n",
       "    </tr>\n",
       "    <tr>\n",
       "      <th>22</th>\n",
       "      <td>FACT_POST_FL</td>\n",
       "      <td>адрес фактического пребывания клиента и его по...</td>\n",
       "    </tr>\n",
       "    <tr>\n",
       "      <th>23</th>\n",
       "      <td>REG_POST_FL</td>\n",
       "      <td>адрес регистрации клиента и его почтовый адрес...</td>\n",
       "    </tr>\n",
       "    <tr>\n",
       "      <th>24</th>\n",
       "      <td>REG_FACT_POST_FL</td>\n",
       "      <td>почтовый, фактический и адрес регистрации совп...</td>\n",
       "    </tr>\n",
       "    <tr>\n",
       "      <th>25</th>\n",
       "      <td>REG_FACT_POST_TP_FL</td>\n",
       "      <td>область регистрации, фактического пребывания, ...</td>\n",
       "    </tr>\n",
       "    <tr>\n",
       "      <th>26</th>\n",
       "      <td>FL_PRESENCE_FL</td>\n",
       "      <td>наличие в собственности квартиры (1 - есть, 0 ...</td>\n",
       "    </tr>\n",
       "    <tr>\n",
       "      <th>27</th>\n",
       "      <td>OWN_AUTO</td>\n",
       "      <td>кол-во автомобилей в собственности</td>\n",
       "    </tr>\n",
       "    <tr>\n",
       "      <th>28</th>\n",
       "      <td>AUTO_RUS_FL</td>\n",
       "      <td>наличие в собственности автомобиля российского...</td>\n",
       "    </tr>\n",
       "    <tr>\n",
       "      <th>29</th>\n",
       "      <td>HS_PRESENCE_FL</td>\n",
       "      <td>наличие в собственности загородного дома (1 - ...</td>\n",
       "    </tr>\n",
       "    <tr>\n",
       "      <th>30</th>\n",
       "      <td>COT_PRESENCE_FL</td>\n",
       "      <td>наличие в собственности котеджа (1 - есть, 0 -...</td>\n",
       "    </tr>\n",
       "    <tr>\n",
       "      <th>31</th>\n",
       "      <td>GAR_PRESENCE_FL</td>\n",
       "      <td>наличие в собственности гаража (1 - есть, 0 - ...</td>\n",
       "    </tr>\n",
       "    <tr>\n",
       "      <th>32</th>\n",
       "      <td>LAND_PRESENCE_FL</td>\n",
       "      <td>наличие в собственности земельного участка (1 ...</td>\n",
       "    </tr>\n",
       "    <tr>\n",
       "      <th>33</th>\n",
       "      <td>CREDIT</td>\n",
       "      <td>сумма последнего кредита клиента (в рублях)</td>\n",
       "    </tr>\n",
       "    <tr>\n",
       "      <th>34</th>\n",
       "      <td>TERM</td>\n",
       "      <td>срок кредита</td>\n",
       "    </tr>\n",
       "    <tr>\n",
       "      <th>35</th>\n",
       "      <td>FST_PAYMENT</td>\n",
       "      <td>первоначальный взнос (в рублях)</td>\n",
       "    </tr>\n",
       "    <tr>\n",
       "      <th>36</th>\n",
       "      <td>DL_DOCUMENT_FL</td>\n",
       "      <td>в анкете клиент указал водительское удостовере...</td>\n",
       "    </tr>\n",
       "    <tr>\n",
       "      <th>37</th>\n",
       "      <td>GPF_DOCUMENT_FL</td>\n",
       "      <td>в анкете клиен указал ГПФ (1 - указал, 0 - не ...</td>\n",
       "    </tr>\n",
       "    <tr>\n",
       "      <th>38</th>\n",
       "      <td>FACT_LIVING_TERM</td>\n",
       "      <td>количество месяцев проживания по месту фактиче...</td>\n",
       "    </tr>\n",
       "    <tr>\n",
       "      <th>39</th>\n",
       "      <td>WORK_TIME</td>\n",
       "      <td>время работы на текущем месте (в месяцах)</td>\n",
       "    </tr>\n",
       "    <tr>\n",
       "      <th>40</th>\n",
       "      <td>FACT_PHONE_FL</td>\n",
       "      <td>наличие в заявке телефона по фактическому мест...</td>\n",
       "    </tr>\n",
       "    <tr>\n",
       "      <th>41</th>\n",
       "      <td>REG_PHONE_FL</td>\n",
       "      <td>наличие в заявке телефона по месту регистрации</td>\n",
       "    </tr>\n",
       "    <tr>\n",
       "      <th>42</th>\n",
       "      <td>GEN_PHONE_FL</td>\n",
       "      <td>наличие в заявке рабочего телефона</td>\n",
       "    </tr>\n",
       "    <tr>\n",
       "      <th>43</th>\n",
       "      <td>LOAN_NUM_TOTAL</td>\n",
       "      <td>количество ссуд клиента</td>\n",
       "    </tr>\n",
       "    <tr>\n",
       "      <th>44</th>\n",
       "      <td>LOAN_NUM_CLOSED</td>\n",
       "      <td>количество погашенных ссуд клиента</td>\n",
       "    </tr>\n",
       "    <tr>\n",
       "      <th>45</th>\n",
       "      <td>LOAN_NUM_PAYM</td>\n",
       "      <td>количество платежей, которые сделал клиент</td>\n",
       "    </tr>\n",
       "    <tr>\n",
       "      <th>46</th>\n",
       "      <td>LOAN_DLQ_NUM</td>\n",
       "      <td>количество просрочек, допущенных клиентом</td>\n",
       "    </tr>\n",
       "    <tr>\n",
       "      <th>47</th>\n",
       "      <td>LOAN_MAX_DLQ</td>\n",
       "      <td>номер максимальной просрочки, допущенной клиентом</td>\n",
       "    </tr>\n",
       "    <tr>\n",
       "      <th>48</th>\n",
       "      <td>LOAN_AVG_DLQ_AMT</td>\n",
       "      <td>средняя сумма просрочки (в рублях)</td>\n",
       "    </tr>\n",
       "    <tr>\n",
       "      <th>49</th>\n",
       "      <td>LOAN_MAX_DLQ_AMT</td>\n",
       "      <td>максимальная сумма просрочки (в рублях)</td>\n",
       "    </tr>\n",
       "    <tr>\n",
       "      <th>50</th>\n",
       "      <td>PREVIOUS_CARD_NUM_UTILIZED</td>\n",
       "      <td>количество уже утилизированных карт ( если пус...</td>\n",
       "    </tr>\n",
       "  </tbody>\n",
       "</table>\n",
       "</div>"
      ],
      "text/plain": [
       "                          ПОЛЕ  \\\n",
       "0                 AGREEMENT_RK   \n",
       "1                          AGE   \n",
       "2            SOCSTATUS_WORK_FL   \n",
       "3            SOCSTATUS_PENS_FL   \n",
       "4                       GENDER   \n",
       "5                  CHILD_TOTAL   \n",
       "6                   DEPENDANTS   \n",
       "7                    EDUCATION   \n",
       "8               MARITAL_STATUS   \n",
       "9                 GEN_INDUSTRY   \n",
       "10                   GEN_TITLE   \n",
       "11                ORG_TP_STATE   \n",
       "12             ORG_TP_FCAPITAL   \n",
       "13                     JOB_DIR   \n",
       "14               FAMILY_INCOME   \n",
       "15             PERSONAL_INCOME   \n",
       "16        REG_ADDRESS_PROVINCE   \n",
       "17       FACT_ADDRESS_PROVINCE   \n",
       "18     POSTAL_ADDRESS_PROVINCE   \n",
       "19                 TP_PROVINCE   \n",
       "20                   REGION_NM   \n",
       "21                 REG_FACT_FL   \n",
       "22                FACT_POST_FL   \n",
       "23                 REG_POST_FL   \n",
       "24            REG_FACT_POST_FL   \n",
       "25         REG_FACT_POST_TP_FL   \n",
       "26              FL_PRESENCE_FL   \n",
       "27                    OWN_AUTO   \n",
       "28                 AUTO_RUS_FL   \n",
       "29              HS_PRESENCE_FL   \n",
       "30             COT_PRESENCE_FL   \n",
       "31             GAR_PRESENCE_FL   \n",
       "32            LAND_PRESENCE_FL   \n",
       "33                      CREDIT   \n",
       "34                        TERM   \n",
       "35                 FST_PAYMENT   \n",
       "36              DL_DOCUMENT_FL   \n",
       "37             GPF_DOCUMENT_FL   \n",
       "38            FACT_LIVING_TERM   \n",
       "39                   WORK_TIME   \n",
       "40               FACT_PHONE_FL   \n",
       "41                REG_PHONE_FL   \n",
       "42                GEN_PHONE_FL   \n",
       "43              LOAN_NUM_TOTAL   \n",
       "44             LOAN_NUM_CLOSED   \n",
       "45               LOAN_NUM_PAYM   \n",
       "46                LOAN_DLQ_NUM   \n",
       "47                LOAN_MAX_DLQ   \n",
       "48            LOAN_AVG_DLQ_AMT   \n",
       "49            LOAN_MAX_DLQ_AMT   \n",
       "50  PREVIOUS_CARD_NUM_UTILIZED   \n",
       "\n",
       "                                             ОПИСАНИЕ  \n",
       "0          уникальный идентификатор объекта в выборке  \n",
       "1                                     возраст клиента  \n",
       "2   социальный статус клиента относительно работы ...  \n",
       "3   социальный статус клиента относительно пенсии ...  \n",
       "4                 пол клиента (1- женщины, 0-мужчины)  \n",
       "5                            количество детей клиента  \n",
       "6                       количество иждивенцев клиента  \n",
       "7                                         образование  \n",
       "8                                  семейное положение  \n",
       "9                              отрасль работы клиента  \n",
       "10                                          должность  \n",
       "11                       форма собственности компании  \n",
       "12                  отношение к иностранному капиталу  \n",
       "13          направление деятельности в нутри компании  \n",
       "14               семейный доход (несколько категорий)  \n",
       "15                    личный доход клиента (в рублях)  \n",
       "16                        область регистрации клиента  \n",
       "17            область фактического пребывания клиента  \n",
       "18                             почтовый адрес область  \n",
       "19  область торговой точки, где клиент брал послед...  \n",
       "20                                          регион РФ  \n",
       "21  адрес регистрации и адрес фактического пребыва...  \n",
       "22  адрес фактического пребывания клиента и его по...  \n",
       "23  адрес регистрации клиента и его почтовый адрес...  \n",
       "24  почтовый, фактический и адрес регистрации совп...  \n",
       "25  область регистрации, фактического пребывания, ...  \n",
       "26  наличие в собственности квартиры (1 - есть, 0 ...  \n",
       "27                кол-во автомобилей в собственности   \n",
       "28  наличие в собственности автомобиля российского...  \n",
       "29  наличие в собственности загородного дома (1 - ...  \n",
       "30  наличие в собственности котеджа (1 - есть, 0 -...  \n",
       "31  наличие в собственности гаража (1 - есть, 0 - ...  \n",
       "32  наличие в собственности земельного участка (1 ...  \n",
       "33        сумма последнего кредита клиента (в рублях)  \n",
       "34                                       срок кредита  \n",
       "35                    первоначальный взнос (в рублях)  \n",
       "36  в анкете клиент указал водительское удостовере...  \n",
       "37  в анкете клиен указал ГПФ (1 - указал, 0 - не ...  \n",
       "38  количество месяцев проживания по месту фактиче...  \n",
       "39          время работы на текущем месте (в месяцах)  \n",
       "40  наличие в заявке телефона по фактическому мест...  \n",
       "41     наличие в заявке телефона по месту регистрации  \n",
       "42                 наличие в заявке рабочего телефона  \n",
       "43                            количество ссуд клиента  \n",
       "44                 количество погашенных ссуд клиента  \n",
       "45         количество платежей, которые сделал клиент  \n",
       "46          количество просрочек, допущенных клиентом  \n",
       "47  номер максимальной просрочки, допущенной клиентом  \n",
       "48                 средняя сумма просрочки (в рублях)  \n",
       "49            максимальная сумма просрочки (в рублях)  \n",
       "50  количество уже утилизированных карт ( если пус...  "
      ]
     },
     "execution_count": 103,
     "metadata": {},
     "output_type": "execute_result"
    }
   ],
   "source": [
    "df_descr"
   ]
  },
  {
   "cell_type": "markdown",
   "metadata": {},
   "source": [
    "Считаем обучающую выборки и тестовую (которую мы как бы не видим)"
   ]
  },
  {
   "cell_type": "code",
   "execution_count": 104,
   "metadata": {},
   "outputs": [],
   "source": [
    "df_train = pd.read_csv('data/otp_train.csv', sep='\\t', encoding='utf8')"
   ]
  },
  {
   "cell_type": "code",
   "execution_count": 22,
   "metadata": {},
   "outputs": [
    {
     "data": {
      "text/plain": [
       "(15223, 52)"
      ]
     },
     "execution_count": 22,
     "metadata": {},
     "output_type": "execute_result"
    }
   ],
   "source": [
    "df_train.shape"
   ]
  },
  {
   "cell_type": "code",
   "execution_count": 105,
   "metadata": {},
   "outputs": [],
   "source": [
    "df_test = pd.read_csv('data/otp_test.csv', sep='\\t', encoding='utf8')"
   ]
  },
  {
   "cell_type": "code",
   "execution_count": 23,
   "metadata": {},
   "outputs": [
    {
     "data": {
      "text/plain": [
       "(14910, 52)"
      ]
     },
     "execution_count": 23,
     "metadata": {},
     "output_type": "execute_result"
    }
   ],
   "source": [
    "df_test.shape"
   ]
  },
  {
   "cell_type": "code",
   "execution_count": 10,
   "metadata": {},
   "outputs": [
    {
     "data": {
      "text/html": [
       "<div>\n",
       "<style scoped>\n",
       "    .dataframe tbody tr th:only-of-type {\n",
       "        vertical-align: middle;\n",
       "    }\n",
       "\n",
       "    .dataframe tbody tr th {\n",
       "        vertical-align: top;\n",
       "    }\n",
       "\n",
       "    .dataframe thead th {\n",
       "        text-align: right;\n",
       "    }\n",
       "</style>\n",
       "<table border=\"1\" class=\"dataframe\">\n",
       "  <thead>\n",
       "    <tr style=\"text-align: right;\">\n",
       "      <th></th>\n",
       "      <th>ПОЛЕ</th>\n",
       "      <th>ОПИСАНИЕ</th>\n",
       "    </tr>\n",
       "  </thead>\n",
       "  <tbody>\n",
       "    <tr>\n",
       "      <th>0</th>\n",
       "      <td>AGREEMENT_RK</td>\n",
       "      <td>уникальный идентификатор объекта в выборке</td>\n",
       "    </tr>\n",
       "    <tr>\n",
       "      <th>1</th>\n",
       "      <td>AGE</td>\n",
       "      <td>возраст клиента</td>\n",
       "    </tr>\n",
       "    <tr>\n",
       "      <th>2</th>\n",
       "      <td>SOCSTATUS_WORK_FL</td>\n",
       "      <td>социальный статус клиента относительно работы ...</td>\n",
       "    </tr>\n",
       "    <tr>\n",
       "      <th>3</th>\n",
       "      <td>SOCSTATUS_PENS_FL</td>\n",
       "      <td>социальный статус клиента относительно пенсии ...</td>\n",
       "    </tr>\n",
       "    <tr>\n",
       "      <th>4</th>\n",
       "      <td>GENDER</td>\n",
       "      <td>пол клиента (1- женщины, 0-мужчины)</td>\n",
       "    </tr>\n",
       "  </tbody>\n",
       "</table>\n",
       "</div>"
      ],
      "text/plain": [
       "                ПОЛЕ                                           ОПИСАНИЕ\n",
       "0       AGREEMENT_RK         уникальный идентификатор объекта в выборке\n",
       "1                AGE                                    возраст клиента\n",
       "2  SOCSTATUS_WORK_FL  социальный статус клиента относительно работы ...\n",
       "3  SOCSTATUS_PENS_FL  социальный статус клиента относительно пенсии ...\n",
       "4             GENDER                пол клиента (1- женщины, 0-мужчины)"
      ]
     },
     "execution_count": 10,
     "metadata": {},
     "output_type": "execute_result"
    }
   ],
   "source": [
    "df_train.head()\n"
   ]
  },
  {
   "cell_type": "markdown",
   "metadata": {},
   "source": [
    "## Объединим две выборки\n",
    "\n",
    "Так как пока мы пока не умеем работать sklearn  Pipeline, то для того, чтобы после предобработки столбцы в двух выборках находились на своих местах.\n",
    "\n",
    "Для того, чтобы в дальнейшем отделить их введем новый столбец \"sample\""
   ]
  },
  {
   "cell_type": "code",
   "execution_count": 106,
   "metadata": {},
   "outputs": [],
   "source": [
    "df_train.loc[:, 'sample'] = 'train'\n",
    "df_test.loc[:, 'sample'] = 'test'"
   ]
  },
  {
   "cell_type": "code",
   "execution_count": 107,
   "metadata": {},
   "outputs": [],
   "source": [
    "df = df_test.append(df_train).reset_index(drop=True)"
   ]
  },
  {
   "cell_type": "code",
   "execution_count": 108,
   "metadata": {},
   "outputs": [
    {
     "data": {
      "text/plain": [
       "(30133, 53)"
      ]
     },
     "execution_count": 108,
     "metadata": {},
     "output_type": "execute_result"
    }
   ],
   "source": [
    "df.shape"
   ]
  },
  {
   "cell_type": "markdown",
   "metadata": {},
   "source": [
    "### Чуть-чуть посмотрим на данные"
   ]
  },
  {
   "cell_type": "markdown",
   "metadata": {
    "collapsed": true
   },
   "source": [
    "Посмотрим типы данных и их заполняемость"
   ]
  },
  {
   "cell_type": "code",
   "execution_count": 14,
   "metadata": {
    "scrolled": false
   },
   "outputs": [
    {
     "name": "stdout",
     "output_type": "stream",
     "text": [
      "<class 'pandas.core.frame.DataFrame'>\n",
      "RangeIndex: 14961 entries, 0 to 14960\n",
      "Data columns (total 55 columns):\n",
      "AGE                           14910 non-null float64\n",
      "AGREEMENT_RK                  14910 non-null float64\n",
      "AUTO_RUS_FL                   14910 non-null float64\n",
      "CHILD_TOTAL                   14910 non-null float64\n",
      "COT_PRESENCE_FL               14910 non-null float64\n",
      "CREDIT                        14910 non-null object\n",
      "DEPENDANTS                    14910 non-null float64\n",
      "DL_DOCUMENT_FL                14910 non-null float64\n",
      "EDUCATION                     14910 non-null object\n",
      "FACT_ADDRESS_PROVINCE         14910 non-null object\n",
      "FACT_LIVING_TERM              14910 non-null float64\n",
      "FACT_PHONE_FL                 14910 non-null float64\n",
      "FACT_POST_FL                  14910 non-null float64\n",
      "FAMILY_INCOME                 14910 non-null object\n",
      "FL_PRESENCE_FL                14910 non-null float64\n",
      "FST_PAYMENT                   14910 non-null object\n",
      "GAR_PRESENCE_FL               14910 non-null float64\n",
      "GENDER                        14910 non-null float64\n",
      "GEN_INDUSTRY                  13564 non-null object\n",
      "GEN_PHONE_FL                  14910 non-null float64\n",
      "GEN_TITLE                     13564 non-null object\n",
      "GPF_DOCUMENT_FL               14910 non-null float64\n",
      "HS_PRESENCE_FL                14910 non-null float64\n",
      "JOB_DIR                       13564 non-null object\n",
      "LAND_PRESENCE_FL              14910 non-null float64\n",
      "LOAN_AVG_DLQ_AMT              14910 non-null object\n",
      "LOAN_DLQ_NUM                  14910 non-null float64\n",
      "LOAN_MAX_DLQ                  14910 non-null float64\n",
      "LOAN_MAX_DLQ_AMT              14910 non-null object\n",
      "LOAN_NUM_CLOSED               14910 non-null float64\n",
      "LOAN_NUM_PAYM                 14910 non-null float64\n",
      "LOAN_NUM_TOTAL                14910 non-null float64\n",
      "MARITAL_STATUS                14910 non-null object\n",
      "ORG_TP_FCAPITAL               13567 non-null object\n",
      "ORG_TP_STATE                  13564 non-null object\n",
      "OWN_AUTO                      14910 non-null float64\n",
      "PERSONAL_INCOME               14910 non-null object\n",
      "POSTAL_ADDRESS_PROVINCE       14910 non-null object\n",
      "PREVIOUS_CARD_NUM_UTILIZED    312 non-null float64\n",
      "REGION_NM                     14909 non-null object\n",
      "REG_ADDRESS_PROVINCE          14910 non-null object\n",
      "REG_FACT_FL                   14910 non-null float64\n",
      "REG_FACT_POST_FL              14910 non-null float64\n",
      "REG_FACT_POST_TP_FL           14910 non-null float64\n",
      "REG_PHONE_FL                  14910 non-null float64\n",
      "REG_POST_FL                   14910 non-null float64\n",
      "SOCSTATUS_PENS_FL             14910 non-null float64\n",
      "SOCSTATUS_WORK_FL             14910 non-null float64\n",
      "TARGET                        14910 non-null float64\n",
      "TERM                          14910 non-null float64\n",
      "TP_PROVINCE                   14615 non-null object\n",
      "WORK_TIME                     13561 non-null float64\n",
      "sample                        14961 non-null object\n",
      "ОПИСАНИЕ                      51 non-null object\n",
      "ПОЛЕ                          51 non-null object\n",
      "dtypes: float64(34), object(21)\n",
      "memory usage: 6.3+ MB\n"
     ]
    }
   ],
   "source": [
    "df.info()"
   ]
  },
  {
   "cell_type": "markdown",
   "metadata": {
    "collapsed": true
   },
   "source": [
    "Видим, что часть данных - object, скорее всего стоки.\n",
    "\n",
    "\n",
    "Давайте выведем эти значения для каждого столбца"
   ]
  },
  {
   "cell_type": "code",
   "execution_count": 15,
   "metadata": {},
   "outputs": [
    {
     "name": "stdout",
     "output_type": "stream",
     "text": [
      "==========\n",
      "ПОЛЕ\n",
      "set([u'AUTO_RUS_FL', u'CHILD_TOTAL', u'AGE', u'WORK_TIME', u'FL_PRESENCE_FL', u'FACT_LIVING_TERM', u'TP_PROVINCE', u'GPF_DOCUMENT_FL', u'REGION_NM', u'GEN_PHONE_FL', u'REG_ADDRESS_PROVINCE', u'GEN_INDUSTRY', u'FACT_ADDRESS_PROVINCE', u'GENDER', u'ORG_TP_STATE', u'JOB_DIR', u'TERM', u'HS_PRESENCE_FL', u'DEPENDANTS', u'REG_PHONE_FL', u'REG_FACT_POST_FL', u'REG_FACT_FL', u'GAR_PRESENCE_FL', u'PERSONAL_INCOME', u'FST_PAYMENT', u'POSTAL_ADDRESS_PROVINCE', u'LOAN_DLQ_NUM', u'COT_PRESENCE_FL', u'LOAN_MAX_DLQ_AMT', u'MARITAL_STATUS', u'OWN_AUTO', u'LOAN_NUM_PAYM', u'PREVIOUS_CARD_NUM_UTILIZED', u'SOCSTATUS_PENS_FL', u'REG_POST_FL', u'LOAN_NUM_TOTAL', u'LOAN_NUM_CLOSED', u'FACT_POST_FL', u'FAMILY_INCOME', u'LOAN_AVG_DLQ_AMT', u'DL_DOCUMENT_FL', u'SOCSTATUS_WORK_FL', u'GEN_TITLE', u'FACT_PHONE_FL', u'AGREEMENT_RK', u'CREDIT', u'LOAN_MAX_DLQ', u'LAND_PRESENCE_FL', u'ORG_TP_FCAPITAL', u'EDUCATION', u'REG_FACT_POST_TP_FL'])\n",
      "\n",
      "\n",
      "==========\n",
      "ОПИСАНИЕ\n",
      "set([u'\\u0441\\u0435\\u043c\\u0435\\u0439\\u043d\\u043e\\u0435 \\u043f\\u043e\\u043b\\u043e\\u0436\\u0435\\u043d\\u0438\\u0435', u'\\u0443\\u043d\\u0438\\u043a\\u0430\\u043b\\u044c\\u043d\\u044b\\u0439 \\u0438\\u0434\\u0435\\u043d\\u0442\\u0438\\u0444\\u0438\\u043a\\u0430\\u0442\\u043e\\u0440 \\u043e\\u0431\\u044a\\u0435\\u043a\\u0442\\u0430 \\u0432 \\u0432\\u044b\\u0431\\u043e\\u0440\\u043a\\u0435', u'\\u043d\\u0430\\u043b\\u0438\\u0447\\u0438\\u0435 \\u0432 \\u0437\\u0430\\u044f\\u0432\\u043a\\u0435 \\u0442\\u0435\\u043b\\u0435\\u0444\\u043e\\u043d\\u0430 \\u043f\\u043e \\u0444\\u0430\\u043a\\u0442\\u0438\\u0447\\u0435\\u0441\\u043a\\u043e\\u043c\\u0443 \\u043c\\u0435\\u0441\\u0442\\u0443 \\u043f\\u0440\\u0435\\u0431\\u044b\\u0432\\u0430\\u043d\\u0438\\u044f', u'\\u0434\\u043e\\u043b\\u0436\\u043d\\u043e\\u0441\\u0442\\u044c', u'\\u043d\\u0430\\u043b\\u0438\\u0447\\u0438\\u0435 \\u0432 \\u0437\\u0430\\u044f\\u0432\\u043a\\u0435 \\u0442\\u0435\\u043b\\u0435\\u0444\\u043e\\u043d\\u0430 \\u043f\\u043e \\u043c\\u0435\\u0441\\u0442\\u0443 \\u0440\\u0435\\u0433\\u0438\\u0441\\u0442\\u0440\\u0430\\u0446\\u0438\\u0438', u'\\u0432\\u0440\\u0435\\u043c\\u044f \\u0440\\u0430\\u0431\\u043e\\u0442\\u044b \\u043d\\u0430 \\u0442\\u0435\\u043a\\u0443\\u0449\\u0435\\u043c \\u043c\\u0435\\u0441\\u0442\\u0435 (\\u0432 \\u043c\\u0435\\u0441\\u044f\\u0446\\u0430\\u0445)', u'\\u043d\\u0430\\u043b\\u0438\\u0447\\u0438\\u0435 \\u0432 \\u0441\\u043e\\u0431\\u0441\\u0442\\u0432\\u0435\\u043d\\u043d\\u043e\\u0441\\u0442\\u0438 \\u0433\\u0430\\u0440\\u0430\\u0436\\u0430 (1 - \\u0435\\u0441\\u0442\\u044c, 0 - \\u043d\\u0435\\u0442)', u'\\u043f\\u043e\\u043b \\u043a\\u043b\\u0438\\u0435\\u043d\\u0442\\u0430 (1- \\u0436\\u0435\\u043d\\u0449\\u0438\\u043d\\u044b, 0-\\u043c\\u0443\\u0436\\u0447\\u0438\\u043d\\u044b)', u'\\u043e\\u0442\\u0440\\u0430\\u0441\\u043b\\u044c \\u0440\\u0430\\u0431\\u043e\\u0442\\u044b \\u043a\\u043b\\u0438\\u0435\\u043d\\u0442\\u0430', u'\\u043d\\u0430\\u043b\\u0438\\u0447\\u0438\\u0435 \\u0432 \\u0441\\u043e\\u0431\\u0441\\u0442\\u0432\\u0435\\u043d\\u043d\\u043e\\u0441\\u0442\\u0438 \\u043a\\u0432\\u0430\\u0440\\u0442\\u0438\\u0440\\u044b (1 - \\u0435\\u0441\\u0442\\u044c, 0 - \\u043d\\u0435\\u0442)', u'\\u043e\\u0431\\u043b\\u0430\\u0441\\u0442\\u044c \\u0444\\u0430\\u043a\\u0442\\u0438\\u0447\\u0435\\u0441\\u043a\\u043e\\u0433\\u043e \\u043f\\u0440\\u0435\\u0431\\u044b\\u0432\\u0430\\u043d\\u0438\\u044f \\u043a\\u043b\\u0438\\u0435\\u043d\\u0442\\u0430', u'\\u043d\\u0430\\u043b\\u0438\\u0447\\u0438\\u0435 \\u0432 \\u0441\\u043e\\u0431\\u0441\\u0442\\u0432\\u0435\\u043d\\u043d\\u043e\\u0441\\u0442\\u0438 \\u043a\\u043e\\u0442\\u0435\\u0434\\u0436\\u0430 (1 - \\u0435\\u0441\\u0442\\u044c, 0 - \\u043d\\u0435\\u0442)', u'\\u0440\\u0435\\u0433\\u0438\\u043e\\u043d \\u0420\\u0424', u'\\u043f\\u043e\\u0447\\u0442\\u043e\\u0432\\u044b\\u0439 \\u0430\\u0434\\u0440\\u0435\\u0441 \\u043e\\u0431\\u043b\\u0430\\u0441\\u0442\\u044c', u'\\u043d\\u0430\\u043b\\u0438\\u0447\\u0438\\u0435 \\u0432 \\u0441\\u043e\\u0431\\u0441\\u0442\\u0432\\u0435\\u043d\\u043d\\u043e\\u0441\\u0442\\u0438 \\u0437\\u0430\\u0433\\u043e\\u0440\\u043e\\u0434\\u043d\\u043e\\u0433\\u043e \\u0434\\u043e\\u043c\\u0430 (1 - \\u0435\\u0441\\u0442\\u044c, 0 - \\u043d\\u0435\\u0442)', u'\\u0441\\u0440\\u0435\\u0434\\u043d\\u044f\\u044f \\u0441\\u0443\\u043c\\u043c\\u0430 \\u043f\\u0440\\u043e\\u0441\\u0440\\u043e\\u0447\\u043a\\u0438 (\\u0432 \\u0440\\u0443\\u0431\\u043b\\u044f\\u0445)', u'\\u043a\\u043e\\u043b\\u0438\\u0447\\u0435\\u0441\\u0442\\u0432\\u043e \\u043f\\u0440\\u043e\\u0441\\u0440\\u043e\\u0447\\u0435\\u043a, \\u0434\\u043e\\u043f\\u0443\\u0449\\u0435\\u043d\\u043d\\u044b\\u0445 \\u043a\\u043b\\u0438\\u0435\\u043d\\u0442\\u043e\\u043c', u'\\u0432 \\u0430\\u043d\\u043a\\u0435\\u0442\\u0435 \\u043a\\u043b\\u0438\\u0435\\u043d\\u0442 \\u0443\\u043a\\u0430\\u0437\\u0430\\u043b \\u0432\\u043e\\u0434\\u0438\\u0442\\u0435\\u043b\\u044c\\u0441\\u043a\\u043e\\u0435 \\u0443\\u0434\\u043e\\u0441\\u0442\\u043e\\u0432\\u0435\\u0440\\u0435\\u043d\\u0438\\u0435 (1 - \\u0443\\u043a\\u0430\\u0437\\u0430\\u043b, 0 - \\u043d\\u0435 \\u0443\\u043a\\u0430\\u0437\\u0430\\u043b)', u'\\u0441\\u0435\\u043c\\u0435\\u0439\\u043d\\u044b\\u0439 \\u0434\\u043e\\u0445\\u043e\\u0434 (\\u043d\\u0435\\u0441\\u043a\\u043e\\u043b\\u044c\\u043a\\u043e \\u043a\\u0430\\u0442\\u0435\\u0433\\u043e\\u0440\\u0438\\u0439)', u'\\u0444\\u043e\\u0440\\u043c\\u0430 \\u0441\\u043e\\u0431\\u0441\\u0442\\u0432\\u0435\\u043d\\u043d\\u043e\\u0441\\u0442\\u0438 \\u043a\\u043e\\u043c\\u043f\\u0430\\u043d\\u0438\\u0438', u'\\u0441\\u043e\\u0446\\u0438\\u0430\\u043b\\u044c\\u043d\\u044b\\u0439 \\u0441\\u0442\\u0430\\u0442\\u0443\\u0441 \\u043a\\u043b\\u0438\\u0435\\u043d\\u0442\\u0430 \\u043e\\u0442\\u043d\\u043e\\u0441\\u0438\\u0442\\u0435\\u043b\\u044c\\u043d\\u043e \\u0440\\u0430\\u0431\\u043e\\u0442\\u044b (1 - \\u0440\\u0430\\u0431\\u043e\\u0442\\u0430\\u0435\\u0442, 0 - \\u043d\\u0435 \\u0440\\u0430\\u0431\\u043e\\u0442\\u0430\\u0435\\u0442)', u'\\u043a\\u043e\\u043b\\u0438\\u0447\\u0435\\u0441\\u0442\\u0432\\u043e \\u043f\\u043b\\u0430\\u0442\\u0435\\u0436\\u0435\\u0439, \\u043a\\u043e\\u0442\\u043e\\u0440\\u044b\\u0435 \\u0441\\u0434\\u0435\\u043b\\u0430\\u043b \\u043a\\u043b\\u0438\\u0435\\u043d\\u0442', u'\\u043d\\u0430\\u043b\\u0438\\u0447\\u0438\\u0435 \\u0432 \\u0441\\u043e\\u0431\\u0441\\u0442\\u0432\\u0435\\u043d\\u043d\\u043e\\u0441\\u0442\\u0438 \\u0430\\u0432\\u0442\\u043e\\u043c\\u043e\\u0431\\u0438\\u043b\\u044f \\u0440\\u043e\\u0441\\u0441\\u0438\\u0439\\u0441\\u043a\\u043e\\u0433\\u043e \\u043f\\u0440\\u043e\\u0438\\u0437\\u0432\\u043e\\u0434\\u0441\\u0442\\u0432\\u0430 ( 1 - \\u0435\\u0441\\u0442\\u044c, 0 - \\u043d\\u0435\\u0442)', u'\\u0441\\u043e\\u0446\\u0438\\u0430\\u043b\\u044c\\u043d\\u044b\\u0439 \\u0441\\u0442\\u0430\\u0442\\u0443\\u0441 \\u043a\\u043b\\u0438\\u0435\\u043d\\u0442\\u0430 \\u043e\\u0442\\u043d\\u043e\\u0441\\u0438\\u0442\\u0435\\u043b\\u044c\\u043d\\u043e \\u043f\\u0435\\u043d\\u0441\\u0438\\u0438 (1 - \\u043f\\u0435\\u043d\\u0441\\u0438\\u043e\\u043d\\u0435\\u0440, 0 - \\u043d\\u0435 \\u043f\\u0435\\u043d\\u0441\\u0438\\u043e\\u043d\\u0435\\u0440)', u'\\u043e\\u0431\\u043b\\u0430\\u0441\\u0442\\u044c \\u0440\\u0435\\u0433\\u0438\\u0441\\u0442\\u0440\\u0430\\u0446\\u0438\\u0438, \\u0444\\u0430\\u043a\\u0442\\u0438\\u0447\\u0435\\u0441\\u043a\\u043e\\u0433\\u043e \\u043f\\u0440\\u0435\\u0431\\u044b\\u0432\\u0430\\u043d\\u0438\\u044f, \\u043f\\u043e\\u0447\\u0442\\u043e\\u0432\\u043e\\u0433\\u043e \\u0430\\u0434\\u0440\\u0435\\u0441\\u0430 \\u0438 \\u043e\\u0431\\u043b\\u0430\\u0441\\u0442\\u044c \\u0440\\u0430\\u0441\\u043f\\u043e\\u043b\\u043e\\u0436\\u0435\\u043d\\u0438\\u044f \\u0442\\u043e\\u0440\\u0433\\u043e\\u0432\\u043e\\u0439 \\u0442\\u043e\\u0447\\u043a\\u0438, \\u0433\\u0434\\u0435 \\u043a\\u043b\\u0438\\u0435\\u043d\\u0442 \\u0431\\u0440\\u0430\\u043b \\u043a\\u0440\\u0435\\u0434\\u0438\\u0442 \\u0441\\u043e\\u0432\\u043f\\u0430\\u0434\\u0430\\u044e\\u0442 (1 - \\u0441\\u043e\\u0432\\u043f\\u0430\\u0434\\u0430\\u044e\\u0442, 0 - \\u043d\\u0435 \\u0441\\u043e\\u0432\\u043f\\u0430\\u0434\\u0430\\u044e\\u0442)', u'\\u043c\\u0430\\u043a\\u0441\\u0438\\u043c\\u0430\\u043b\\u044c\\u043d\\u0430\\u044f \\u0441\\u0443\\u043c\\u043c\\u0430 \\u043f\\u0440\\u043e\\u0441\\u0440\\u043e\\u0447\\u043a\\u0438 (\\u0432 \\u0440\\u0443\\u0431\\u043b\\u044f\\u0445)', u'\\u043a\\u043e\\u043b\\u0438\\u0447\\u0435\\u0441\\u0442\\u0432\\u043e \\u0441\\u0441\\u0443\\u0434 \\u043a\\u043b\\u0438\\u0435\\u043d\\u0442\\u0430', u'\\u043a\\u043e\\u043b-\\u0432\\u043e \\u0430\\u0432\\u0442\\u043e\\u043c\\u043e\\u0431\\u0438\\u043b\\u0435\\u0439 \\u0432 \\u0441\\u043e\\u0431\\u0441\\u0442\\u0432\\u0435\\u043d\\u043d\\u043e\\u0441\\u0442\\u0438 ', u'\\u0441\\u0440\\u043e\\u043a \\u043a\\u0440\\u0435\\u0434\\u0438\\u0442\\u0430', u'\\u0432\\u043e\\u0437\\u0440\\u0430\\u0441\\u0442 \\u043a\\u043b\\u0438\\u0435\\u043d\\u0442\\u0430', u'\\u043a\\u043e\\u043b\\u0438\\u0447\\u0435\\u0441\\u0442\\u0432\\u043e \\u043c\\u0435\\u0441\\u044f\\u0446\\u0435\\u0432 \\u043f\\u0440\\u043e\\u0436\\u0438\\u0432\\u0430\\u043d\\u0438\\u044f \\u043f\\u043e \\u043c\\u0435\\u0441\\u0442\\u0443 \\u0444\\u0430\\u043a\\u0442\\u0438\\u0447\\u0435\\u0441\\u043a\\u043e\\u0433\\u043e \\u043f\\u0440\\u0435\\u0431\\u044b\\u0432\\u0430\\u043d\\u0438\\u044f', u'\\u043d\\u0430\\u043b\\u0438\\u0447\\u0438\\u0435 \\u0432 \\u0441\\u043e\\u0431\\u0441\\u0442\\u0432\\u0435\\u043d\\u043d\\u043e\\u0441\\u0442\\u0438 \\u0437\\u0435\\u043c\\u0435\\u043b\\u044c\\u043d\\u043e\\u0433\\u043e \\u0443\\u0447\\u0430\\u0441\\u0442\\u043a\\u0430 (1 - \\u0435\\u0441\\u0442\\u044c, 0 - \\u043d\\u0435\\u0442)', u'\\u0430\\u0434\\u0440\\u0435\\u0441 \\u0444\\u0430\\u043a\\u0442\\u0438\\u0447\\u0435\\u0441\\u043a\\u043e\\u0433\\u043e \\u043f\\u0440\\u0435\\u0431\\u044b\\u0432\\u0430\\u043d\\u0438\\u044f \\u043a\\u043b\\u0438\\u0435\\u043d\\u0442\\u0430 \\u0438 \\u0435\\u0433\\u043e \\u043f\\u043e\\u0447\\u0442\\u043e\\u0432\\u044b\\u0439 \\u0430\\u0434\\u0440\\u0435\\u0441 \\u0441\\u043e\\u0432\\u043f\\u0430\\u0434\\u0430\\u044e\\u0442(1 - \\u0441\\u043e\\u0432\\u043f\\u0430\\u0434\\u0430\\u0435\\u0442, 0 - \\u043d\\u0435 \\u0441\\u043e\\u0432\\u043f\\u0430\\u0434\\u0430\\u0435\\u0442)', u'\\u043a\\u043e\\u043b\\u0438\\u0447\\u0435\\u0441\\u0442\\u0432\\u043e \\u0434\\u0435\\u0442\\u0435\\u0439 \\u043a\\u043b\\u0438\\u0435\\u043d\\u0442\\u0430', u'\\u0432 \\u0430\\u043d\\u043a\\u0435\\u0442\\u0435 \\u043a\\u043b\\u0438\\u0435\\u043d \\u0443\\u043a\\u0430\\u0437\\u0430\\u043b \\u0413\\u041f\\u0424 (1 - \\u0443\\u043a\\u0430\\u0437\\u0430\\u043b, 0 - \\u043d\\u0435 \\u0443\\u043a\\u0430\\u0437\\u0430\\u043b)', u'\\u043d\\u043e\\u043c\\u0435\\u0440 \\u043c\\u0430\\u043a\\u0441\\u0438\\u043c\\u0430\\u043b\\u044c\\u043d\\u043e\\u0439 \\u043f\\u0440\\u043e\\u0441\\u0440\\u043e\\u0447\\u043a\\u0438, \\u0434\\u043e\\u043f\\u0443\\u0449\\u0435\\u043d\\u043d\\u043e\\u0439 \\u043a\\u043b\\u0438\\u0435\\u043d\\u0442\\u043e\\u043c', u'\\u043a\\u043e\\u043b\\u0438\\u0447\\u0435\\u0441\\u0442\\u0432\\u043e \\u0438\\u0436\\u0434\\u0438\\u0432\\u0435\\u043d\\u0446\\u0435\\u0432 \\u043a\\u043b\\u0438\\u0435\\u043d\\u0442\\u0430', u'\\u043e\\u0442\\u043d\\u043e\\u0448\\u0435\\u043d\\u0438\\u0435 \\u043a \\u0438\\u043d\\u043e\\u0441\\u0442\\u0440\\u0430\\u043d\\u043d\\u043e\\u043c\\u0443 \\u043a\\u0430\\u043f\\u0438\\u0442\\u0430\\u043b\\u0443', u'\\u043b\\u0438\\u0447\\u043d\\u044b\\u0439 \\u0434\\u043e\\u0445\\u043e\\u0434 \\u043a\\u043b\\u0438\\u0435\\u043d\\u0442\\u0430 (\\u0432 \\u0440\\u0443\\u0431\\u043b\\u044f\\u0445)', u'\\u043e\\u0431\\u0440\\u0430\\u0437\\u043e\\u0432\\u0430\\u043d\\u0438\\u0435', u'\\u043e\\u0431\\u043b\\u0430\\u0441\\u0442\\u044c \\u0442\\u043e\\u0440\\u0433\\u043e\\u0432\\u043e\\u0439 \\u0442\\u043e\\u0447\\u043a\\u0438, \\u0433\\u0434\\u0435 \\u043a\\u043b\\u0438\\u0435\\u043d\\u0442 \\u0431\\u0440\\u0430\\u043b \\u043f\\u043e\\u0441\\u043b\\u0435\\u0434\\u043d\\u0438\\u0439 \\u043a\\u0440\\u0435\\u0434\\u0438\\u0442', u'\\u043e\\u0431\\u043b\\u0430\\u0441\\u0442\\u044c \\u0440\\u0435\\u0433\\u0438\\u0441\\u0442\\u0440\\u0430\\u0446\\u0438\\u0438 \\u043a\\u043b\\u0438\\u0435\\u043d\\u0442\\u0430', u'\\u043d\\u0430\\u043f\\u0440\\u0430\\u0432\\u043b\\u0435\\u043d\\u0438\\u0435 \\u0434\\u0435\\u044f\\u0442\\u0435\\u043b\\u044c\\u043d\\u043e\\u0441\\u0442\\u0438 \\u0432 \\u043d\\u0443\\u0442\\u0440\\u0438 \\u043a\\u043e\\u043c\\u043f\\u0430\\u043d\\u0438\\u0438', u'\\u043a\\u043e\\u043b\\u0438\\u0447\\u0435\\u0441\\u0442\\u0432\\u043e \\u043f\\u043e\\u0433\\u0430\\u0448\\u0435\\u043d\\u043d\\u044b\\u0445 \\u0441\\u0441\\u0443\\u0434 \\u043a\\u043b\\u0438\\u0435\\u043d\\u0442\\u0430', u'\\u043f\\u043e\\u0447\\u0442\\u043e\\u0432\\u044b\\u0439, \\u0444\\u0430\\u043a\\u0442\\u0438\\u0447\\u0435\\u0441\\u043a\\u0438\\u0439 \\u0438 \\u0430\\u0434\\u0440\\u0435\\u0441 \\u0440\\u0435\\u0433\\u0438\\u0441\\u0442\\u0440\\u0430\\u0446\\u0438\\u0438 \\u0441\\u043e\\u0432\\u043f\\u0430\\u0434\\u0430\\u044e\\u0442 (1 - \\u0441\\u043e\\u0432\\u043f\\u0430\\u0434\\u0430\\u044e\\u0442, 0 - \\u043d\\u0435 \\u0441\\u043e\\u0432\\u043f\\u0430\\u0434\\u0430\\u044e\\u0442)', u'\\u0430\\u0434\\u0440\\u0435\\u0441 \\u0440\\u0435\\u0433\\u0438\\u0441\\u0442\\u0440\\u0430\\u0446\\u0438\\u0438 \\u0438 \\u0430\\u0434\\u0440\\u0435\\u0441 \\u0444\\u0430\\u043a\\u0442\\u0438\\u0447\\u0435\\u0441\\u043a\\u043e\\u0433\\u043e \\u043f\\u0440\\u0435\\u0431\\u044b\\u0432\\u0430\\u043d\\u0438\\u044f \\u043a\\u043b\\u0438\\u0435\\u043d\\u0442\\u0430 \\u0441\\u043e\\u0432\\u043f\\u0430\\u0434\\u0430\\u044e\\u0442(1 - \\u0441\\u043e\\u0432\\u043f\\u0430\\u0434\\u0430\\u0435\\u0442, 0 - \\u043d\\u0435 \\u0441\\u043e\\u0432\\u043f\\u0430\\u0434\\u0430\\u0435\\u0442)', u'\\u043a\\u043e\\u043b\\u0438\\u0447\\u0435\\u0441\\u0442\\u0432\\u043e \\u0443\\u0436\\u0435 \\u0443\\u0442\\u0438\\u043b\\u0438\\u0437\\u0438\\u0440\\u043e\\u0432\\u0430\\u043d\\u043d\\u044b\\u0445 \\u043a\\u0430\\u0440\\u0442 ( \\u0435\\u0441\\u043b\\u0438 \\u043f\\u0443\\u0441\\u0442\\u043e - 0) ', u'\\u0441\\u0443\\u043c\\u043c\\u0430 \\u043f\\u043e\\u0441\\u043b\\u0435\\u0434\\u043d\\u0435\\u0433\\u043e \\u043a\\u0440\\u0435\\u0434\\u0438\\u0442\\u0430 \\u043a\\u043b\\u0438\\u0435\\u043d\\u0442\\u0430 (\\u0432 \\u0440\\u0443\\u0431\\u043b\\u044f\\u0445)', u'\\u043f\\u0435\\u0440\\u0432\\u043e\\u043d\\u0430\\u0447\\u0430\\u043b\\u044c\\u043d\\u044b\\u0439 \\u0432\\u0437\\u043d\\u043e\\u0441 (\\u0432 \\u0440\\u0443\\u0431\\u043b\\u044f\\u0445)', u'\\u043d\\u0430\\u043b\\u0438\\u0447\\u0438\\u0435 \\u0432 \\u0437\\u0430\\u044f\\u0432\\u043a\\u0435 \\u0440\\u0430\\u0431\\u043e\\u0447\\u0435\\u0433\\u043e \\u0442\\u0435\\u043b\\u0435\\u0444\\u043e\\u043d\\u0430', u'\\u0430\\u0434\\u0440\\u0435\\u0441 \\u0440\\u0435\\u0433\\u0438\\u0441\\u0442\\u0440\\u0430\\u0446\\u0438\\u0438 \\u043a\\u043b\\u0438\\u0435\\u043d\\u0442\\u0430 \\u0438 \\u0435\\u0433\\u043e \\u043f\\u043e\\u0447\\u0442\\u043e\\u0432\\u044b\\u0439 \\u0430\\u0434\\u0440\\u0435\\u0441 \\u0441\\u043e\\u0432\\u043f\\u0430\\u0434\\u0430\\u044e\\u0442(1 - \\u0441\\u043e\\u0432\\u043f\\u0430\\u0434\\u0430\\u0435\\u0442, 0 - \\u043d\\u0435 \\u0441\\u043e\\u0432\\u043f\\u0430\\u0434\\u0430\\u0435\\u0442)'])\n",
      "\n",
      "\n",
      "==========\n",
      "sample\n",
      "set(['train'])\n",
      "\n",
      "\n"
     ]
    }
   ],
   "source": [
    "for i in df_train.columns: # перебираем все столбцы\n",
    "    if str(df_train[i].dtype) == 'object': # если тип столбца - object\n",
    "        print('='*10)\n",
    "        print(i) # выводим название столбца\n",
    "        print(set(df_train[i])) # выводим все его значения (но делаем set - чтоб значения не повторялись)\n",
    "        print('\\n') # выводим пустую строку"
   ]
  },
  {
   "cell_type": "markdown",
   "metadata": {
    "collapsed": true
   },
   "source": [
    "Mожно заметить что некоторые переменные, которые обозначены как строки (например PERSONAL_INCOME) на самом деле числа, но по какой-то причине были распознаны как строки\n",
    "\n",
    "Причина же что использовалась запятая для разделения не целой части числа.."
   ]
  },
  {
   "cell_type": "markdown",
   "metadata": {},
   "source": [
    "Перекодировать их можно например так:"
   ]
  },
  {
   "cell_type": "markdown",
   "metadata": {},
   "source": [
    "Такой эффект наблюдается в столбцах `PERSONAL_INCOME`, `CREDIT`, `FST_PAYMENT`, `LOAN_AVG_DLQ_AMT`, `LOAN_MAX_DLQ_AMT`"
   ]
  },
  {
   "cell_type": "markdown",
   "metadata": {},
   "source": [
    "### Теперь ваше небольшое исследование"
   ]
  },
  {
   "cell_type": "markdown",
   "metadata": {
    "collapsed": true
   },
   "source": [
    "#### Задание 1. Есть ли пропуски в данных? Что с ними сделать?\n",
    "\n",
    "(единственного верного ответа нет - аргументируйте)"
   ]
  },
  {
   "cell_type": "code",
   "execution_count": 109,
   "metadata": {},
   "outputs": [
    {
     "name": "stdout",
     "output_type": "stream",
     "text": [
      "<class 'pandas.core.frame.DataFrame'>\n",
      "RangeIndex: 30133 entries, 0 to 30132\n",
      "Data columns (total 53 columns):\n",
      "AGREEMENT_RK                  30133 non-null int64\n",
      "TARGET                        30133 non-null int64\n",
      "AGE                           30133 non-null int64\n",
      "SOCSTATUS_WORK_FL             30133 non-null int64\n",
      "SOCSTATUS_PENS_FL             30133 non-null int64\n",
      "GENDER                        30133 non-null int64\n",
      "CHILD_TOTAL                   30133 non-null int64\n",
      "DEPENDANTS                    30133 non-null int64\n",
      "EDUCATION                     30133 non-null object\n",
      "MARITAL_STATUS                30133 non-null object\n",
      "GEN_INDUSTRY                  27420 non-null object\n",
      "GEN_TITLE                     27420 non-null object\n",
      "ORG_TP_STATE                  27420 non-null object\n",
      "ORG_TP_FCAPITAL               27425 non-null object\n",
      "JOB_DIR                       27420 non-null object\n",
      "FAMILY_INCOME                 30133 non-null object\n",
      "PERSONAL_INCOME               30133 non-null object\n",
      "REG_ADDRESS_PROVINCE          30133 non-null object\n",
      "FACT_ADDRESS_PROVINCE         30133 non-null object\n",
      "POSTAL_ADDRESS_PROVINCE       30133 non-null object\n",
      "TP_PROVINCE                   29543 non-null object\n",
      "REGION_NM                     30131 non-null object\n",
      "REG_FACT_FL                   30133 non-null int64\n",
      "FACT_POST_FL                  30133 non-null int64\n",
      "REG_POST_FL                   30133 non-null int64\n",
      "REG_FACT_POST_FL              30133 non-null int64\n",
      "REG_FACT_POST_TP_FL           30133 non-null int64\n",
      "FL_PRESENCE_FL                30133 non-null int64\n",
      "OWN_AUTO                      30133 non-null int64\n",
      "AUTO_RUS_FL                   30133 non-null int64\n",
      "HS_PRESENCE_FL                30133 non-null int64\n",
      "COT_PRESENCE_FL               30133 non-null int64\n",
      "GAR_PRESENCE_FL               30133 non-null int64\n",
      "LAND_PRESENCE_FL              30133 non-null int64\n",
      "CREDIT                        30133 non-null object\n",
      "TERM                          30133 non-null int64\n",
      "FST_PAYMENT                   30133 non-null object\n",
      "DL_DOCUMENT_FL                30133 non-null int64\n",
      "GPF_DOCUMENT_FL               30133 non-null int64\n",
      "FACT_LIVING_TERM              30133 non-null int64\n",
      "WORK_TIME                     27416 non-null float64\n",
      "FACT_PHONE_FL                 30133 non-null int64\n",
      "REG_PHONE_FL                  30133 non-null int64\n",
      "GEN_PHONE_FL                  30133 non-null int64\n",
      "LOAN_NUM_TOTAL                30133 non-null int64\n",
      "LOAN_NUM_CLOSED               30133 non-null int64\n",
      "LOAN_NUM_PAYM                 30133 non-null int64\n",
      "LOAN_DLQ_NUM                  30133 non-null int64\n",
      "LOAN_MAX_DLQ                  30133 non-null int64\n",
      "LOAN_AVG_DLQ_AMT              30133 non-null object\n",
      "LOAN_MAX_DLQ_AMT              30133 non-null object\n",
      "PREVIOUS_CARD_NUM_UTILIZED    600 non-null float64\n",
      "sample                        30133 non-null object\n",
      "dtypes: float64(2), int64(32), object(19)\n",
      "memory usage: 12.2+ MB\n"
     ]
    },
    {
     "data": {
      "text/plain": [
       "1.0    595\n",
       "2.0      5\n",
       "Name: PREVIOUS_CARD_NUM_UTILIZED, dtype: int64"
      ]
     },
     "execution_count": 109,
     "metadata": {},
     "output_type": "execute_result"
    }
   ],
   "source": [
    "df.info()\n",
    "# пропуски в данных есть вот в этих столбцах:\n",
    "#GEN_INDUSTRY                  27420 non-null object\n",
    "#GEN_TITLE                     27420 non-null object\n",
    "#ORG_TP_STATE                  27420 non-null object\n",
    "#ORG_TP_FCAPITAL               27425 non-null object\n",
    "#JOB_DIR  27420 non-null object\n",
    "#TP_PROVINCE                   29543 non-null object\n",
    "#WORK_TIME                     27416 non-null float64\n",
    "#PREVIOUS_CARD_NUM_UTILIZED    600 non-null float64\n",
    "# из 30133\n",
    "\n",
    "df.PREVIOUS_CARD_NUM_UTILIZED.value_counts()\n",
    "\n",
    "# данные с пропусками:\n",
    "# заменить пропуски в категориальных признаках пустотами (' ') \n",
    "# PREVIOUS_CARD_NUM_UTILIZED - заменить на 0 пропущенные значения, тк\n",
    "# заполненных всего 600 - это очень мало.\n",
    "# WORK_TIME - попробуем заполнить пропуски средним значением\n"
   ]
  },
  {
   "cell_type": "markdown",
   "metadata": {
    "collapsed": true
   },
   "source": [
    "#### Задание 2. Есть ли категориальные признаки? Что с ними делать?"
   ]
  },
  {
   "cell_type": "code",
   "execution_count": null,
   "metadata": {
    "collapsed": true
   },
   "outputs": [],
   "source": [
    "# категориальные признаки: GEN_INDUSTRY, MARITAL_STATUS, ORG_TP_STATE, REG_ADDRESS_PROVINCE, FACT_ADDRESS_PROVINCE, \n",
    "#POSTAL_ADDRESS_PROVINCE, TP_PROVINCE, REGION_NM\n",
    "\n",
    "# заполнить пропуски в категориальных признаках пустотами ('')\n",
    "# перекодировать категориальные признаки с помощью get_dummies или OneHotEcncoder"
   ]
  },
  {
   "cell_type": "markdown",
   "metadata": {},
   "source": [
    "#### Задание 3. Фунция предобработки"
   ]
  },
  {
   "cell_type": "markdown",
   "metadata": {},
   "source": [
    "Напишите функцию, которая бы\n",
    "\n",
    "* Удаляло идентификатор `AGREEMENT_RK`\n",
    "* Избавлялась от проблем с '.' и ',' в стобцах PERSONAL_INCOME, CREDIT, FST_PAYMENT, LOAN_AVG_DLQ_AMT, LOAN_MAX_DLQ_AMT\n",
    "* Что-то делала с пропусками\n",
    "* Кодировала категориальные признаки\n",
    "\n",
    "В результате, ваш датафрейм должен содержать только числа и не содержать пропусков!"
   ]
  },
  {
   "cell_type": "code",
   "execution_count": 110,
   "metadata": {},
   "outputs": [],
   "source": [
    "def preproc_data(df_input):\n",
    "    \n",
    "    df_output = df_input.copy()\n",
    "    df_output = df_output.drop(['AGREEMENT_RK'], axis=1)\n",
    "    \n",
    "    df_output['PERSONAL_INCOME'] = df_output['PERSONAL_INCOME'].map(lambda x: x.replace(',', '.')).astype('float')\n",
    "    df_output['CREDIT'] = df_output['CREDIT'].map(lambda x: x.replace(',', '.')).astype('float')\n",
    "    df_output['FST_PAYMENT'] = df_output['FST_PAYMENT'].map(lambda x: x.replace(',', '.')).astype('float')\n",
    "    df_output['LOAN_AVG_DLQ_AMT'] = df_output['LOAN_AVG_DLQ_AMT'].map(lambda x: x.replace(',', '.')).astype('float')\n",
    "    df_output['LOAN_MAX_DLQ_AMT'] = df_output['LOAN_MAX_DLQ_AMT'].map(lambda x: x.replace(',', '.')).astype('float')\n",
    "    \n",
    "    df_output['WORK_TIME'] = df_output['WORK_TIME'].fillna(df_output['WORK_TIME'].mean())\n",
    "    df_output['PREVIOUS_CARD_NUM_UTILIZED'] = df_output['PREVIOUS_CARD_NUM_UTILIZED'].fillna(0)\n",
    "    \n",
    "    df_output = df_output.fillna('')\n",
    "    \n",
    "    for col in df_output.loc[:, 'EDUCATION':'REGION_NM']:\n",
    "        df_output[col] = pd.factorize(df_output[col])[0]\n",
    "        \n",
    "    df_output = pd.get_dummies(df_output, prefix=['EDUCATION', 'MARITAL_STATUS', 'GEN_INDUSTRY', 'GEN_TITLE', 'ORG_TP_STATE', 'ORG_TP_FCAPITAL', 'JOB_DIR', 'FAMILY_INCOME', 'PERSONAL_INCOME', 'REG_ADDRESS_PROVINCE', 'FACT_ADDRESS_PROVINCE', 'POSTAL_ADDRESS_PROVINCE', 'TP_PROVINCE', 'REGION_NM'],\n",
    "                                   columns=['EDUCATION', 'MARITAL_STATUS', 'GEN_INDUSTRY', 'GEN_TITLE', 'ORG_TP_STATE', 'ORG_TP_FCAPITAL', 'JOB_DIR', 'FAMILY_INCOME', 'PERSONAL_INCOME', 'REG_ADDRESS_PROVINCE', 'FACT_ADDRESS_PROVINCE', 'POSTAL_ADDRESS_PROVINCE', 'TP_PROVINCE', 'REGION_NM'])\n",
    "    \n",
    "    return df_output"
   ]
  },
  {
   "cell_type": "code",
   "execution_count": 111,
   "metadata": {},
   "outputs": [
    {
     "data": {
      "text/html": [
       "<div>\n",
       "<style scoped>\n",
       "    .dataframe tbody tr th:only-of-type {\n",
       "        vertical-align: middle;\n",
       "    }\n",
       "\n",
       "    .dataframe tbody tr th {\n",
       "        vertical-align: top;\n",
       "    }\n",
       "\n",
       "    .dataframe thead th {\n",
       "        text-align: right;\n",
       "    }\n",
       "</style>\n",
       "<table border=\"1\" class=\"dataframe\">\n",
       "  <thead>\n",
       "    <tr style=\"text-align: right;\">\n",
       "      <th></th>\n",
       "      <th>AGREEMENT_RK</th>\n",
       "      <th>TARGET</th>\n",
       "      <th>AGE</th>\n",
       "      <th>SOCSTATUS_WORK_FL</th>\n",
       "      <th>SOCSTATUS_PENS_FL</th>\n",
       "      <th>GENDER</th>\n",
       "      <th>CHILD_TOTAL</th>\n",
       "      <th>DEPENDANTS</th>\n",
       "      <th>EDUCATION</th>\n",
       "      <th>MARITAL_STATUS</th>\n",
       "      <th>...</th>\n",
       "      <th>GEN_PHONE_FL</th>\n",
       "      <th>LOAN_NUM_TOTAL</th>\n",
       "      <th>LOAN_NUM_CLOSED</th>\n",
       "      <th>LOAN_NUM_PAYM</th>\n",
       "      <th>LOAN_DLQ_NUM</th>\n",
       "      <th>LOAN_MAX_DLQ</th>\n",
       "      <th>LOAN_AVG_DLQ_AMT</th>\n",
       "      <th>LOAN_MAX_DLQ_AMT</th>\n",
       "      <th>PREVIOUS_CARD_NUM_UTILIZED</th>\n",
       "      <th>sample</th>\n",
       "    </tr>\n",
       "  </thead>\n",
       "  <tbody>\n",
       "    <tr>\n",
       "      <th>0</th>\n",
       "      <td>59909969</td>\n",
       "      <td>0</td>\n",
       "      <td>30</td>\n",
       "      <td>1</td>\n",
       "      <td>0</td>\n",
       "      <td>1</td>\n",
       "      <td>1</td>\n",
       "      <td>1</td>\n",
       "      <td>Среднее специальное</td>\n",
       "      <td>Не состоял в браке</td>\n",
       "      <td>...</td>\n",
       "      <td>1</td>\n",
       "      <td>2</td>\n",
       "      <td>2</td>\n",
       "      <td>8</td>\n",
       "      <td>0</td>\n",
       "      <td>0</td>\n",
       "      <td>0</td>\n",
       "      <td>0</td>\n",
       "      <td>NaN</td>\n",
       "      <td>test</td>\n",
       "    </tr>\n",
       "    <tr>\n",
       "      <th>1</th>\n",
       "      <td>59910420</td>\n",
       "      <td>0</td>\n",
       "      <td>48</td>\n",
       "      <td>0</td>\n",
       "      <td>1</td>\n",
       "      <td>1</td>\n",
       "      <td>0</td>\n",
       "      <td>0</td>\n",
       "      <td>Среднее</td>\n",
       "      <td>Состою в браке</td>\n",
       "      <td>...</td>\n",
       "      <td>0</td>\n",
       "      <td>2</td>\n",
       "      <td>1</td>\n",
       "      <td>15</td>\n",
       "      <td>0</td>\n",
       "      <td>0</td>\n",
       "      <td>0</td>\n",
       "      <td>0</td>\n",
       "      <td>NaN</td>\n",
       "      <td>test</td>\n",
       "    </tr>\n",
       "    <tr>\n",
       "      <th>2</th>\n",
       "      <td>59911223</td>\n",
       "      <td>0</td>\n",
       "      <td>35</td>\n",
       "      <td>1</td>\n",
       "      <td>0</td>\n",
       "      <td>0</td>\n",
       "      <td>1</td>\n",
       "      <td>0</td>\n",
       "      <td>Среднее</td>\n",
       "      <td>Не состоял в браке</td>\n",
       "      <td>...</td>\n",
       "      <td>1</td>\n",
       "      <td>1</td>\n",
       "      <td>1</td>\n",
       "      <td>1</td>\n",
       "      <td>0</td>\n",
       "      <td>0</td>\n",
       "      <td>0</td>\n",
       "      <td>0</td>\n",
       "      <td>NaN</td>\n",
       "      <td>test</td>\n",
       "    </tr>\n",
       "    <tr>\n",
       "      <th>3</th>\n",
       "      <td>59911322</td>\n",
       "      <td>0</td>\n",
       "      <td>22</td>\n",
       "      <td>1</td>\n",
       "      <td>0</td>\n",
       "      <td>0</td>\n",
       "      <td>0</td>\n",
       "      <td>0</td>\n",
       "      <td>Среднее</td>\n",
       "      <td>Не состоял в браке</td>\n",
       "      <td>...</td>\n",
       "      <td>1</td>\n",
       "      <td>3</td>\n",
       "      <td>2</td>\n",
       "      <td>9</td>\n",
       "      <td>0</td>\n",
       "      <td>0</td>\n",
       "      <td>0</td>\n",
       "      <td>0</td>\n",
       "      <td>NaN</td>\n",
       "      <td>test</td>\n",
       "    </tr>\n",
       "    <tr>\n",
       "      <th>4</th>\n",
       "      <td>59911438</td>\n",
       "      <td>0</td>\n",
       "      <td>27</td>\n",
       "      <td>1</td>\n",
       "      <td>0</td>\n",
       "      <td>1</td>\n",
       "      <td>2</td>\n",
       "      <td>2</td>\n",
       "      <td>Высшее</td>\n",
       "      <td>Состою в браке</td>\n",
       "      <td>...</td>\n",
       "      <td>1</td>\n",
       "      <td>1</td>\n",
       "      <td>1</td>\n",
       "      <td>5</td>\n",
       "      <td>0</td>\n",
       "      <td>0</td>\n",
       "      <td>0</td>\n",
       "      <td>0</td>\n",
       "      <td>NaN</td>\n",
       "      <td>test</td>\n",
       "    </tr>\n",
       "  </tbody>\n",
       "</table>\n",
       "<p>5 rows × 53 columns</p>\n",
       "</div>"
      ],
      "text/plain": [
       "   AGREEMENT_RK  TARGET  AGE  SOCSTATUS_WORK_FL  SOCSTATUS_PENS_FL  GENDER  \\\n",
       "0      59909969       0   30                  1                  0       1   \n",
       "1      59910420       0   48                  0                  1       1   \n",
       "2      59911223       0   35                  1                  0       0   \n",
       "3      59911322       0   22                  1                  0       0   \n",
       "4      59911438       0   27                  1                  0       1   \n",
       "\n",
       "   CHILD_TOTAL  DEPENDANTS            EDUCATION      MARITAL_STATUS  ...    \\\n",
       "0            1           1  Среднее специальное  Не состоял в браке  ...     \n",
       "1            0           0              Среднее      Состою в браке  ...     \n",
       "2            1           0              Среднее  Не состоял в браке  ...     \n",
       "3            0           0              Среднее  Не состоял в браке  ...     \n",
       "4            2           2               Высшее      Состою в браке  ...     \n",
       "\n",
       "  GEN_PHONE_FL LOAN_NUM_TOTAL LOAN_NUM_CLOSED LOAN_NUM_PAYM LOAN_DLQ_NUM  \\\n",
       "0            1              2               2             8            0   \n",
       "1            0              2               1            15            0   \n",
       "2            1              1               1             1            0   \n",
       "3            1              3               2             9            0   \n",
       "4            1              1               1             5            0   \n",
       "\n",
       "  LOAN_MAX_DLQ LOAN_AVG_DLQ_AMT LOAN_MAX_DLQ_AMT PREVIOUS_CARD_NUM_UTILIZED  \\\n",
       "0            0                0                0                        NaN   \n",
       "1            0                0                0                        NaN   \n",
       "2            0                0                0                        NaN   \n",
       "3            0                0                0                        NaN   \n",
       "4            0                0                0                        NaN   \n",
       "\n",
       "  sample  \n",
       "0   test  \n",
       "1   test  \n",
       "2   test  \n",
       "3   test  \n",
       "4   test  \n",
       "\n",
       "[5 rows x 53 columns]"
      ]
     },
     "execution_count": 111,
     "metadata": {},
     "output_type": "execute_result"
    }
   ],
   "source": [
    "df.head()"
   ]
  },
  {
   "cell_type": "code",
   "execution_count": 112,
   "metadata": {},
   "outputs": [],
   "source": [
    "df_preproc = df.pipe(preproc_data)"
   ]
  },
  {
   "cell_type": "code",
   "execution_count": 113,
   "metadata": {},
   "outputs": [],
   "source": [
    "df_train_preproc = df_preproc.query('sample == \"train\"').drop(['sample'], axis=1)\n",
    "df_test_preproc = df_preproc.query('sample == \"test\"').drop(['sample'], axis=1)"
   ]
  },
  {
   "cell_type": "markdown",
   "metadata": {},
   "source": [
    "#### Задание 4. Отделите целевую переменную и остальные признаки\n",
    "\n",
    "Должно получится:\n",
    "* 2 матрицы: X и X_test\n",
    "* 2 вектора: y и y_test"
   ]
  },
  {
   "cell_type": "markdown",
   "metadata": {},
   "source": [
    "#### Задание 5. Обучение и оценка качества разных моделей"
   ]
  },
  {
   "cell_type": "code",
   "execution_count": 114,
   "metadata": {},
   "outputs": [],
   "source": [
    "# Попробовать следующие \"черные ящики\": интерфейс одинаковый \n",
    "#     fit, \n",
    "#     predict, \n",
    "#     predict_proba\n",
    "\n",
    "from sklearn.cross_validation import train_test_split\n",
    "from sklearn.model_selection import train_test_split\n",
    "from sklearn.model_selection import KFold, StratifiedKFold\n",
    "from sklearn.model_selection import cross_val_score\n",
    "\n",
    "X, X_test, y, y_test = train_test_split(df_train_preproc.iloc[:, 1:], df_train_preproc.iloc[:, 0], test_size=0.3, random_state=42)\n",
    "\n",
    "dt = DecisionTreeClassifier(random_state=42)\n",
    "rf = RandomForestClassifier(random_state=42)\n",
    "lr = LogisticRegression(random_state=42)\n"
   ]
  },
  {
   "cell_type": "code",
   "execution_count": 115,
   "metadata": {},
   "outputs": [],
   "source": [
    "dt.fit(X,y)\n",
    "dt_predict = dt.predict(X_test)\n",
    "dt_predict_proba = dt.predict_proba(X_test)"
   ]
  },
  {
   "cell_type": "code",
   "execution_count": 116,
   "metadata": {},
   "outputs": [],
   "source": [
    "rf.fit(X,y)\n",
    "rf_predict = dt.predict(X_test)\n",
    "rf_predict_proba = dt.predict_proba(X_test)"
   ]
  },
  {
   "cell_type": "code",
   "execution_count": 117,
   "metadata": {},
   "outputs": [],
   "source": [
    "lr.fit(X,y)\n",
    "lr_predict = dt.predict(X_test)\n",
    "lr_predict_proba = dt.predict_proba(X_test)"
   ]
  },
  {
   "cell_type": "code",
   "execution_count": 118,
   "metadata": {},
   "outputs": [],
   "source": [
    "# Посчитать метрики стандартные\n",
    "# accuracy, precision, recall\n",
    "\n",
    "from sklearn.metrics import accuracy_score, precision_score, recall_score\n",
    "\n",
    "## Your Code Here\n",
    "\n",
    "\n",
    "dt_acc = accuracy_score(y_test, dt.predict(X_test))\n",
    "dt_pr_score = precision_score(y_test, dt.predict(X_test))\n",
    "dt_recall = recall_score(y_test, dt.predict(X_test))"
   ]
  },
  {
   "cell_type": "code",
   "execution_count": 119,
   "metadata": {},
   "outputs": [
    {
     "data": {
      "text/plain": [
       "(0.7880446682723888, 0.13961605584642234, 0.14414414414414414)"
      ]
     },
     "execution_count": 119,
     "metadata": {},
     "output_type": "execute_result"
    }
   ],
   "source": [
    "dt_acc,  dt_pr_score, dt_recall"
   ]
  },
  {
   "cell_type": "code",
   "execution_count": 120,
   "metadata": {},
   "outputs": [],
   "source": [
    "rf_acc = accuracy_score(y_test, rf.predict(X_test))\n",
    "rf_pr_score = precision_score(y_test, rf.predict(X_test))\n",
    "rf_recall = recall_score(y_test, rf.predict(X_test))"
   ]
  },
  {
   "cell_type": "code",
   "execution_count": 121,
   "metadata": {},
   "outputs": [
    {
     "data": {
      "text/plain": [
       "(0.8776001751696957, 0.35714285714285715, 0.009009009009009009)"
      ]
     },
     "execution_count": 121,
     "metadata": {},
     "output_type": "execute_result"
    }
   ],
   "source": [
    "rf_acc,  rf_pr_score, rf_recall"
   ]
  },
  {
   "cell_type": "code",
   "execution_count": 122,
   "metadata": {},
   "outputs": [],
   "source": [
    "lr_acc = accuracy_score(y_test, lr.predict(X_test))\n",
    "lr_pr_score = precision_score(y_test, lr.predict(X_test))\n",
    "lr_recall = recall_score(y_test, lr.predict(X_test))"
   ]
  },
  {
   "cell_type": "code",
   "execution_count": 123,
   "metadata": {},
   "outputs": [
    {
     "data": {
      "text/plain": [
       "(0.8780380994088023, 0.25, 0.0018018018018018018)"
      ]
     },
     "execution_count": 123,
     "metadata": {},
     "output_type": "execute_result"
    }
   ],
   "source": [
    "lr_acc,  lr_pr_score, lr_recall"
   ]
  },
  {
   "cell_type": "code",
   "execution_count": 132,
   "metadata": {},
   "outputs": [],
   "source": [
    "acc = [dt_acc, rf_acc, lr_acc]\n",
    "scr = [dt_pr_score, rf_pr_score, lr_pr_score]\n",
    "recall = [dt_recall, rf_recall, lr_recall]"
   ]
  },
  {
   "cell_type": "code",
   "execution_count": 124,
   "metadata": {},
   "outputs": [],
   "source": [
    "y_hat_proba_rf = rf.predict_proba(X_test)\n",
    "y_hat_proba_dt = dt.predict_proba(X_test)\n",
    "y_hat_proba_lr = lr.predict_proba(X_test)"
   ]
  },
  {
   "cell_type": "code",
   "execution_count": 125,
   "metadata": {},
   "outputs": [
    {
     "data": {
      "text/plain": [
       "array([[0.8, 0.2],\n",
       "       [0.6, 0.4],\n",
       "       [0.7, 0.3],\n",
       "       ...,\n",
       "       [0.9, 0.1],\n",
       "       [0.9, 0.1],\n",
       "       [1. , 0. ]])"
      ]
     },
     "execution_count": 125,
     "metadata": {},
     "output_type": "execute_result"
    }
   ],
   "source": [
    "y_hat_proba_rf "
   ]
  },
  {
   "cell_type": "code",
   "execution_count": 137,
   "metadata": {},
   "outputs": [
    {
     "data": {
      "text/plain": [
       "<matplotlib.legend.Legend at 0x1a0ec23fd0>"
      ]
     },
     "execution_count": 137,
     "metadata": {},
     "output_type": "execute_result"
    },
    {
     "data": {
      "image/png": "[encoded data removed]",
      "text/plain": [
       "<matplotlib.figure.Figure at 0x1a0e100dd0>"
      ]
     },
     "metadata": {},
     "output_type": "display_data"
    }
   ],
   "source": [
    "# Визуализировать эти метрики всех моделей на одном графике (чтоб визуально посмотреть)\n",
    "\n",
    "## Your Code Here\n",
    "index = np.arange(3)\n",
    "bar_width = 0.3\n",
    "alpha = 0.7\n",
    "\n",
    "plt.figure(figsize=(8, 8))\n",
    "\n",
    "plt.bar(index, acc, width=bar_width, alpha=alpha, label='accuracy')\n",
    "plt.bar(index+1.0*bar_width, scr,  width=bar_width, alpha=alpha, label='precision')\n",
    "plt.bar(index+2.0*bar_width, recall, width=bar_width, alpha=alpha, label='recall')\n",
    "\n",
    "plt.xlabel('Models')\n",
    "plt.ylabel('Score')\n",
    "plt.title('Model Scores')\n",
    "plt.xticks(index+1.0*bar_width, ['dt', 'rf', 'lr'])\n",
    "plt.legend()"
   ]
  },
  {
   "cell_type": "code",
   "execution_count": 126,
   "metadata": {},
   "outputs": [
    {
     "data": {
      "text/plain": [
       "(-0.01, 1.01)"
      ]
     },
     "execution_count": 126,
     "metadata": {},
     "output_type": "execute_result"
    },
    {
     "data": {
      "image/png": "[encoded data removed]",
      "text/plain": [
       "<matplotlib.figure.Figure at 0x1a0a39ce90>"
      ]
     },
     "metadata": {},
     "output_type": "display_data"
    }
   ],
   "source": [
    "# Потроить roc-кривые всех моделей на одном графике\n",
    "# Вывести roc_auc каждой моделе\n",
    "\n",
    "## Your Code Here\n",
    "\n",
    "from sklearn.metrics import roc_curve, roc_auc_score\n",
    "\n",
    "fpr1, tpr1, thresholds1 = roc_curve(y_test, y_hat_proba_dt[:,1])\n",
    "fpr2, tpr2, thresholds2 = roc_curve(y_test, y_hat_proba_lr[:,1])\n",
    "fpr3, tpr3, thresholds3 = roc_curve(y_test, y_hat_proba_rf[:,1])\n",
    "\n",
    "plt.figure(figsize=(5, 5))\n",
    "plt.plot(fpr1, tpr1)\n",
    "plt.plot(fpr2, tpr2)\n",
    "plt.plot(fpr3, tpr3)\n",
    "plt.plot([0, 1], [0, 1])\n",
    "plt.ylabel('tpr')\n",
    "plt.xlabel('fpr')\n",
    "plt.grid(True)\n",
    "plt.title('ROC curve')\n",
    "plt.xlim((-0.01, 1.01))\n",
    "plt.ylim((-0.01, 1.01))"
   ]
  },
  {
   "cell_type": "code",
   "execution_count": 152,
   "metadata": {},
   "outputs": [
    {
     "ename": "TypeError",
     "evalue": "'StratifiedKFold' object is not iterable",
     "output_type": "error",
     "traceback": [
      "\u001b[0;31m---------------------------------------------------------------------------\u001b[0m",
      "\u001b[0;31mTypeError\u001b[0m                                 Traceback (most recent call last)",
      "\u001b[0;32m<ipython-input-152-93cff94f3cd1>\u001b[0m in \u001b[0;36m<module>\u001b[0;34m()\u001b[0m\n\u001b[1;32m     10\u001b[0m     \u001b[0my\u001b[0m\u001b[0;34m,\u001b[0m\u001b[0;34m\u001b[0m\u001b[0m\n\u001b[1;32m     11\u001b[0m     \u001b[0mscoring\u001b[0m\u001b[0;34m=\u001b[0m\u001b[0;34m'roc_auc'\u001b[0m\u001b[0;34m,\u001b[0m\u001b[0;34m\u001b[0m\u001b[0m\n\u001b[0;32m---> 12\u001b[0;31m     \u001b[0mcv\u001b[0m\u001b[0;34m=\u001b[0m\u001b[0mcv\u001b[0m\u001b[0;34m\u001b[0m\u001b[0m\n\u001b[0m\u001b[1;32m     13\u001b[0m )\n\u001b[1;32m     14\u001b[0m \u001b[0;34m\u001b[0m\u001b[0m\n",
      "\u001b[0;32m/Users/annakudinova/anaconda2/lib/python2.7/site-packages/sklearn/cross_validation.pyc\u001b[0m in \u001b[0;36mcross_val_score\u001b[0;34m(estimator, X, y, scoring, cv, n_jobs, verbose, fit_params, pre_dispatch)\u001b[0m\n\u001b[1;32m   1579\u001b[0m                                               \u001b[0mtrain\u001b[0m\u001b[0;34m,\u001b[0m \u001b[0mtest\u001b[0m\u001b[0;34m,\u001b[0m \u001b[0mverbose\u001b[0m\u001b[0;34m,\u001b[0m \u001b[0mNone\u001b[0m\u001b[0;34m,\u001b[0m\u001b[0;34m\u001b[0m\u001b[0m\n\u001b[1;32m   1580\u001b[0m                                               fit_params)\n\u001b[0;32m-> 1581\u001b[0;31m                       for train, test in cv)\n\u001b[0m\u001b[1;32m   1582\u001b[0m     \u001b[0;32mreturn\u001b[0m \u001b[0mnp\u001b[0m\u001b[0;34m.\u001b[0m\u001b[0marray\u001b[0m\u001b[0;34m(\u001b[0m\u001b[0mscores\u001b[0m\u001b[0;34m)\u001b[0m\u001b[0;34m[\u001b[0m\u001b[0;34m:\u001b[0m\u001b[0;34m,\u001b[0m \u001b[0;36m0\u001b[0m\u001b[0;34m]\u001b[0m\u001b[0;34m\u001b[0m\u001b[0m\n\u001b[1;32m   1583\u001b[0m \u001b[0;34m\u001b[0m\u001b[0m\n",
      "\u001b[0;31mTypeError\u001b[0m: 'StratifiedKFold' object is not iterable"
     ]
    }
   ],
   "source": [
    "from sklearn.cross_validation import cross_val_score\n",
    "from sklearn.model_selection import KFold, StratifiedKFold\n",
    "\n",
    "cv = StratifiedKFold(n_splits=10, shuffle=True, random_state=123)\n",
    "\n",
    "# Посчитаем меру качества roc_auc на кросс-валидации для моделей\n",
    "scores_dt = cross_val_score(\n",
    "    dt,\n",
    "    X,\n",
    "    y,\n",
    "    scoring='roc_auc',\n",
    "    cv=cv\n",
    ")\n",
    "\n",
    "scores_rf = cross_val_score(\n",
    "    rf,\n",
    "    X,\n",
    "    y,\n",
    "    scoring='roc_auc',\n",
    "    cv=cv\n",
    ")\n",
    "\n",
    "scores_lr = cross_val_score(\n",
    "    lr,\n",
    "    X,\n",
    "    y,\n",
    "    scoring='roc_auc',\n",
    "    cv=cv\n",
    ")\n",
    "\n",
    "#что-то не получилось пока..."
   ]
  },
  {
   "cell_type": "code",
   "execution_count": null,
   "metadata": {
    "collapsed": true
   },
   "outputs": [],
   "source": [
    "# Взять лучшую модель и сделать predict (с вероятностями (!!!)) для test выборки\n",
    "\n",
    "\n",
    "## Your Code Here"
   ]
  },
  {
   "cell_type": "code",
   "execution_count": null,
   "metadata": {},
   "outputs": [],
   "source": [
    "# Померить roc_auc на тесте\n"
   ]
  },
  {
   "cell_type": "code",
   "execution_count": null,
   "metadata": {
    "collapsed": true
   },
   "outputs": [],
   "source": []
  }
 ],
 "metadata": {
  "anaconda-cloud": {},
  "kernelspec": {
   "display_name": "Python 3",
   "language": "python",
   "name": "python3"
  },
  "language_info": {
   "codemirror_mode": {
    "name": "ipython",
    "version": 2
   },
   "file_extension": ".py",
   "mimetype": "text/x-python",
   "name": "python",
   "nbconvert_exporter": "python",
   "pygments_lexer": "ipython2",
   "version": "2.7.14"
  },
  "toc": {
   "colors": {
    "hover_highlight": "#DAA520",
    "navigate_num": "#000000",
    "navigate_text": "#333333",
    "running_highlight": "#FF0000",
    "selected_highlight": "#FFD700",
    "sidebar_border": "#EEEEEE",
    "wrapper_background": "#FFFFFF"
   },
   "moveMenuLeft": true,
   "nav_menu": {
    "height": "31px",
    "width": "253px"
   },
   "navigate_menu": true,
   "number_sections": false,
   "sideBar": true,
   "threshold": 4,
   "toc_cell": false,
   "toc_section_display": "block",
   "toc_window_display": false,
   "widenNotebook": false
  }
 },
 "nbformat": 4,
 "nbformat_minor": 2
}
